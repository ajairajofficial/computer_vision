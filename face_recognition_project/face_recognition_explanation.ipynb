{
  "cells": [
    {
      "cell_type": "code",
      "execution_count": 1,
      "metadata": {},
      "outputs": [],
      "source": [
        "import cv2\n",
        "import face_recognition\n",
        "import os\n",
        "import numpy as np\n",
        "from collections import defaultdict\n"
      ]
    },
    {
      "cell_type": "markdown",
      "metadata": {},
      "source": [
        "known_faces_dir will be C:/Users/ajair/Desktop/github/AiSystemLabs/face_recognition_project/known_faces"
      ]
    },
    {
      "cell_type": "code",
      "execution_count": 2,
      "metadata": {},
      "outputs": [],
      "source": [
        "def load_known_faces(known_faces_dir):\n",
        "    \"\"\"Load and encode known faces from directory structure\n",
        "    Expected structure:\n",
        "    known_faces/\n",
        "        person1_name/\n",
        "            image1.jpg\n",
        "            image2.jpg\n",
        "        person2_name/\n",
        "            image1.jpg\n",
        "    \"\"\"\n",
        "    known_faces = defaultdict(list)  # Automatically creates empty list for new keys\n",
        "    \n",
        "    # Check if directory exists\n",
        "    if not os.path.exists(known_faces_dir):\n",
        "        print(f\"Directory {known_faces_dir} not found!\")\n",
        "        return {}\n",
        "    \n",
        "    # Iterate through each person's directory\n",
        "    for person_name in os.listdir(known_faces_dir): # os.listdir() lists all files and directories in the given directory in list format\n",
        "        person_dir = os.path.join(known_faces_dir, person_name) #known_faces/Ajai_Raj \n",
        "        if not os.path.isdir(person_dir): # checks if each path is a directory (folder) otherwise skips\n",
        "            continue # means if the path is not a directory, skip the rest of the code and go to the next person\n",
        "        \n",
        "        # Load each image for this person\n",
        "        for image_file in os.listdir(person_dir):\n",
        "            if not image_file.lower().endswith(('.jpg', '.jpeg', '.png')):\n",
        "                continue\n",
        "            \n",
        "            image_path = os.path.join(person_dir, image_file)\n",
        "            try:\n",
        "                # Load and encode face\n",
        "                image = face_recognition.load_image_file(image_path)\n",
        "                face_encodings = face_recognition.face_encodings(image)\n",
        "                \n",
        "                if not face_encodings:\n",
        "                    print(f\"No face found in {image_path}\")\n",
        "                    continue\n",
        "                \n",
        "                # Add the first found face encoding\n",
        "                known_faces[person_name].append(face_encodings[0])\n",
        "                print(f\"Loaded face from {image_path}\")\n",
        "                \n",
        "            except Exception as e:\n",
        "                print(f\"Error loading {image_path}: {str(e)}\")\n",
        "    \n",
        "    return known_faces\n"
      ]
    },
    {
      "cell_type": "markdown",
      "metadata": {},
      "source": [
        "os.path.abspath() gets the absolute (full) path of a directory\n",
        "The empty string '' means \"current directory\"\n",
        "So this line gets the full path of where your notebook is running\n",
        "For example, if your notebook is in C:/Users/ajair/Desktop/github/AiSystemLabs/face_recognition_project, that's what notebook_dir will contain"
      ]
    },
    {
      "cell_type": "code",
      "execution_count": 3,
      "metadata": {},
      "outputs": [],
      "source": [
        "# Get the notebook's directory path\n",
        "notebook_dir = os.path.abspath('') # os.path.abspath() gets the absolute (full) path of a directory \n",
        "known_faces_dir = os.path.join(notebook_dir, \"known_faces\")\n"
      ]
    },
    {
      "cell_type": "markdown",
      "metadata": {},
      "source": [
        "It takes the notebook_dir (your current directory) and adds \"known_faces\" to it\n",
        "So if notebook_dir is C:/Users/ajair/Desktop/github/AiSystemLabs/face_recognition_project\n",
        "Then known_faces_dir will be C:/Users/ajair/Desktop/github/AiSystemLabs/face_recognition_project/known_faces"
      ]
    },
    {
      "cell_type": "code",
      "execution_count": null,
      "metadata": {},
      "outputs": [],
      "source": []
    },
    {
      "cell_type": "code",
      "execution_count": 4,
      "metadata": {},
      "outputs": [
        {
          "name": "stdout",
          "output_type": "stream",
          "text": [
            "No face found in c:\\Users\\ajair\\Desktop\\github\\AiSystemLabs\\face_recognition_project\\known_faces\\Ajai_Raj\\image1.jpeg\n",
            "Loaded face from c:\\Users\\ajair\\Desktop\\github\\AiSystemLabs\\face_recognition_project\\known_faces\\Ajai_Raj\\image2.jpeg\n",
            "Loaded face from c:\\Users\\ajair\\Desktop\\github\\AiSystemLabs\\face_recognition_project\\known_faces\\Ajai_Raj\\image3.jpeg\n",
            "No face found in c:\\Users\\ajair\\Desktop\\github\\AiSystemLabs\\face_recognition_project\\known_faces\\Ajai_Raj\\image4.jpeg\n",
            "Loaded face from c:\\Users\\ajair\\Desktop\\github\\AiSystemLabs\\face_recognition_project\\known_faces\\Ajai_Raj\\image5.jpeg\n",
            "No face found in c:\\Users\\ajair\\Desktop\\github\\AiSystemLabs\\face_recognition_project\\known_faces\\Ajai_Raj\\image6.jpeg\n",
            "Loaded face from c:\\Users\\ajair\\Desktop\\github\\AiSystemLabs\\face_recognition_project\\known_faces\\Ajai_Raj\\image7.jpeg\n",
            "Loaded 1 people:\n",
            "- Ajai_Raj: 4 training images\n"
          ]
        }
      ],
      "source": [
        "# Initialize video capture (0 is usually the built-in webcam)\n",
        "video_capture = cv2.VideoCapture(0)\n",
        "\n",
        "# Load known faces\n",
        "known_faces = load_known_faces(known_faces_dir)\n",
        "\n",
        "# Check if we found any faces\n",
        "if not known_faces:\n",
        "    print(\"No known faces found! Please add person folders with training images\")\n",
        "    print(\"Expected structure:\")\n",
        "    print(\"known_faces/\")\n",
        "    print(\"    person1_name/\")\n",
        "    print(\"        image1.jpg\")\n",
        "    print(\"        image2.jpg\")\n",
        "    print(\"    person2_name/\")\n",
        "    print(\"        image1.jpg\")\n",
        "else:\n",
        "    print(f\"Loaded {len(known_faces)} people:\")  # len(known_faces) is the number of people in the known_faces dictionary\n",
        "    for person, encodings in known_faces.items():\n",
        "        print(f\"- {person}: {len(encodings)} training images\") # Ajai: 3 training images\n"
      ]
    },
    {
      "cell_type": "code",
      "execution_count": 5,
      "metadata": {},
      "outputs": [],
      "source": [
        "# Function to process a single frame\n",
        "def process_frame(frame, known_faces):\n",
        "    # Find all face locations in the current frame\n",
        "    face_locations = face_recognition.face_locations(frame)\n",
        "    # Get face encodings for any faces in the frame\n",
        "    face_encodings = face_recognition.face_encodings(frame, face_locations)\n",
        "    \n",
        "    # Process each face in the frame\n",
        "    for (top, right, bottom, left), face_encoding in zip(face_locations, face_encodings):\n",
        "        name = \"Unknown\"\n",
        "        confidence = 0\n",
        "        \n",
        "        # Check against each person's face encodings\n",
        "        for person_name, person_encodings in known_faces.items():\n",
        "            # Compare against all training images for this person\n",
        "            matches = face_recognition.compare_faces(person_encodings, face_encoding, tolerance=0.6)\n",
        "            if True in matches:\n",
        "                # Calculate confidence\n",
        "                match_confidence = matches.count(True) / len(matches)\n",
        "                if match_confidence > confidence:\n",
        "                    confidence = match_confidence\n",
        "                    name = person_name\n",
        "        \n",
        "        # Draw a box around the face\n",
        "        cv2.rectangle(frame, (left, top), (right, bottom), (0, 255, 0), 2)\n",
        "        \n",
        "        # Draw a label with the name and confidence\n",
        "        label = f\"{name} ({confidence*100:.0f}%)\" if name != \"Unknown\" else name\n",
        "        cv2.rectangle(frame, (left, bottom - 35), (right, bottom), (0, 255, 0), cv2.FILLED)\n",
        "        font = cv2.FONT_HERSHEY_DUPLEX\n",
        "        cv2.putText(frame, label, (left + 6, bottom - 6), font, 0.6, (255, 255, 255), 1)\n",
        "    \n",
        "    return frame\n"
      ]
    },
    {
      "cell_type": "code",
      "execution_count": 6,
      "metadata": {},
      "outputs": [],
      "source": [
        "# Main loop for face recognition\n",
        "try:\n",
        "    while True:\n",
        "        # Capture frame-by-frame\n",
        "        ret, frame = video_capture.read()\n",
        "        if not ret:\n",
        "            print(\"Failed to grab frame\")\n",
        "            break\n",
        "            \n",
        "        # Process the frame\n",
        "        frame = process_frame(frame, known_faces)\n",
        "            \n",
        "        # Display the resulting frame\n",
        "        cv2.imshow('Video', frame)\n",
        "            \n",
        "        # Hit 'q' on the keyboard to quit\n",
        "        if cv2.waitKey(1) & 0xFF == ord('q'):\n",
        "            break\n",
        "            \n",
        "except KeyboardInterrupt:\n",
        "    print(\"\\nStopping the program...\")\n",
        "    \n",
        "finally:\n",
        "    # Release handle to the webcam\n",
        "    video_capture.release()\n",
        "    cv2.destroyAllWindows()\n"
      ]
    },
    {
      "cell_type": "code",
      "execution_count": null,
      "metadata": {},
      "outputs": [],
      "source": [
        "\n"
      ]
    },
    {
      "cell_type": "code",
      "execution_count": null,
      "metadata": {},
      "outputs": [],
      "source": [
        "\n"
      ]
    }
  ],
  "metadata": {
    "kernelspec": {
      "display_name": "Python 3",
      "language": "python",
      "name": "python3"
    },
    "language_info": {
      "codemirror_mode": {
        "name": "ipython",
        "version": 3
      },
      "file_extension": ".py",
      "mimetype": "text/x-python",
      "name": "python",
      "nbconvert_exporter": "python",
      "pygments_lexer": "ipython3",
      "version": "3.9.23"
    }
  },
  "nbformat": 4,
  "nbformat_minor": 2
}
